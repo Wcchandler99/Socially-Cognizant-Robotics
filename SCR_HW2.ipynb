{
  "cells": [
    {
      "cell_type": "code",
      "execution_count": null,
      "metadata": {
        "colab": {
          "base_uri": "https://localhost:8080/"
        },
        "id": "W6if-cHBV9Au",
        "outputId": "3d4fac92-1d98-43a2-c626-82e482d14d25"
      },
      "outputs": [
        {
          "output_type": "stream",
          "name": "stderr",
          "text": [
            "/usr/local/lib/python3.10/dist-packages/gym/core.py:317: DeprecationWarning: \u001b[33mWARN: Initializing wrapper in old step API which returns one bool instead of two. It is recommended to set `new_step_api=True` to use new step API. This will be the default behaviour in future.\u001b[0m\n",
            "  deprecation(\n",
            "/usr/local/lib/python3.10/dist-packages/gym/wrappers/step_api_compatibility.py:39: DeprecationWarning: \u001b[33mWARN: Initializing environment in old step API which returns one bool instead of two. It is recommended to set `new_step_api=True` to use new step API. This will be the default behaviour in future.\u001b[0m\n",
            "  deprecation(\n"
          ]
        }
      ],
      "source": [
        "import numpy as np\n",
        "import gym\n",
        "import matplotlib.pyplot as plt\n",
        "from collections import deque\n",
        "import matplotlib.animation\n",
        "import matplotlib.pyplot as plt\n",
        "from IPython.display import HTML\n",
        "import tensorflow as tf\n",
        "from tensorflow.keras.layers import Dense, Flatten, Conv2D\n",
        "from tensorflow.keras import Model\n",
        "\n",
        "%matplotlib inline\n",
        "\n",
        "env_cartpole = gym.make('CartPole-v1')"
      ]
    },
    {
      "cell_type": "code",
      "execution_count": null,
      "metadata": {
        "id": "B7CQHAt8WDi-",
        "colab": {
          "base_uri": "https://localhost:8080/"
        },
        "outputId": "41e6dd20-ec10-4669-c0fb-bfb3e36de792"
      },
      "outputs": [
        {
          "output_type": "stream",
          "name": "stderr",
          "text": [
            "/usr/local/lib/python3.10/dist-packages/ipykernel/ipkernel.py:283: DeprecationWarning: `should_run_async` will not call `transform_cell` automatically in the future. Please pass the result to `transformed_cell` argument and any exception that happen during thetransform in `preprocessing_exc_tuple` in IPython 7.17 and above.\n",
            "  and should_run_async(code)\n"
          ]
        }
      ],
      "source": [
        "def animate_agent(env, agent, max_steps = 1000):\n",
        "    obs = env.reset()\n",
        "    frames = deque()\n",
        "    frames.append(env.render(mode='rgb_array'))\n",
        "    for _ in range(max_steps):\n",
        "        out = agent(obs)\n",
        "        assert (\"Action\" in out), \"The key 'Action' was missing from the agents output.\"\n",
        "        action = out[\"Action\"]\n",
        "        obs, _ , done, _ = env.step(action)\n",
        "        frames.append(env.render(mode='rgb_array'))\n",
        "        if done:\n",
        "            break\n",
        "\n",
        "    return animate_frames(frames)\n",
        "\n",
        "def animate_frames(frames):\n",
        "    new_height = 2.2\n",
        "    original_height = frames[0].shape[0]\n",
        "    original_width = frames[0].shape[1]\n",
        "    new_width = (new_height / original_height) * original_width\n",
        "    fig = plt.figure(figsize=(new_width, new_height), dpi = 120)\n",
        "\n",
        "    ax = plt.Axes(fig, [0., 0., 1., 1.])\n",
        "    ax.set_axis_off()\n",
        "    fig.add_axes(ax)\n",
        "    patch = ax.imshow(frames[0], aspect='auto', animated=True, interpolation='bilinear')\n",
        "    animate = lambda i: patch.set_data(frames[i])\n",
        "\n",
        "    ani = matplotlib.animation.FuncAnimation(fig, animate, frames=len(frames), interval = 50)\n",
        "\n",
        "    plt.close()\n",
        "    return HTML(ani.to_jshtml())"
      ]
    },
    {
      "cell_type": "code",
      "execution_count": null,
      "metadata": {
        "id": "CPmWEYyMWTLB"
      },
      "outputs": [],
      "source": [
        "# def get_episode_trajectory(env, agent, max_steps=100000):\n",
        "#     observation_list = []\n",
        "#     reward_list = []\n",
        "#     action_list = []\n",
        "#     value_list = []\n",
        "#     done_count = 0\n",
        "\n",
        "#     done = False\n",
        "#     obs = env.reset()\n",
        "#     for _ in range(max_steps):\n",
        "#         observation_list.append(obs)\n",
        "#         out = agent(obs)\n",
        "#         assert (\"Action\" in out), \"The key 'Action' was missing from the agents output.\"\n",
        "#         action = out[\"Action\"]\n",
        "#         obs, rew, done, truncated = env.step(action)\n",
        "#         reward_list.append(rew)\n",
        "#         action_list.append(action)\n",
        "#         if \"Value\" in out:\n",
        "#             value_list.append(out[\"Value\"])\n",
        "\n",
        "#         if done:\n",
        "#             if not truncated:\n",
        "#                 done_count += 1\n",
        "#             break\n",
        "\n",
        "#     ret = {\n",
        "#         \"Observations\": observation_list,\n",
        "#         \"Actions\": action_list,\n",
        "#         \"Rewards\": np.array(reward_list, dtype=np.float32),\n",
        "#         \"Done Count\": done_count\n",
        "#     }\n",
        "#     if len(value_list) > 0:\n",
        "#         ret[\"Values\"] = value_list\n",
        "\n",
        "#     return ret"
      ]
    },
    {
      "cell_type": "code",
      "execution_count": null,
      "metadata": {
        "id": "P7ESf__1aS9T"
      },
      "outputs": [],
      "source": [
        "def get_episode_trajectory(env, agent, max_steps=1000):\n",
        "    observation_list = []\n",
        "    reward_list = []\n",
        "    action_list = []\n",
        "    value_list = []\n",
        "\n",
        "    done = False\n",
        "    obs = env.reset()\n",
        "    for _ in range(max_steps):\n",
        "        observation_list.append(obs)\n",
        "        out = agent(obs)\n",
        "        assert (\"Action\" in out), \"The key 'Action' was missing from the agents output.\"\n",
        "        action = out[\"Action\"]\n",
        "        obs, rew, done, _, = env.step(action)\n",
        "        reward_list.append(rew)\n",
        "        action_list.append(action)\n",
        "        if \"Value\" in out:\n",
        "            value_list.append(out[\"Value\"])\n",
        "\n",
        "        if done:\n",
        "            break\n",
        "\n",
        "    ret = {\n",
        "        \"Observations\": observation_list,\n",
        "        \"Actions\": action_list,\n",
        "        \"Rewards\": np.array(reward_list, dtype=np.float32)\n",
        "    }\n",
        "    if len(value_list) > 0:\n",
        "        ret[\"Values\"] = value_list\n",
        "\n",
        "    return ret"
      ]
    },
    {
      "cell_type": "code",
      "execution_count": null,
      "metadata": {
        "id": "__1EhjAXXEr4"
      },
      "outputs": [],
      "source": [
        "def reward_to_go(rewards):\n",
        "    return np.flip(np.cumsum(np.flip(rewards)))"
      ]
    },
    {
      "cell_type": "code",
      "execution_count": null,
      "metadata": {
        "id": "dbHQE8ntWWTf"
      },
      "outputs": [],
      "source": [
        "def reward_to_go_normalized(rewards):\n",
        "    adv = reward_to_go(rewards)\n",
        "    eps = 0.00001\n",
        "    return (adv - adv.mean()) / (adv.std() + eps)"
      ]
    },
    {
      "cell_type": "code",
      "execution_count": null,
      "metadata": {
        "id": "RR4XDb6PWZwe"
      },
      "outputs": [],
      "source": [
        "class AgentMLPTF(Model):\n",
        "  def __init__(self):\n",
        "    super(AgentMLPTF, self).__init__()\n",
        "    self.d1 = Dense(15, activation='tanh')\n",
        "    self.d2 = Dense(15, activation='tanh')\n",
        "    self.d3 = Dense(2)\n",
        "\n",
        "  def call(self, x):\n",
        "    # 1. Define Policy\n",
        "    batch = True\n",
        "    if x.ndim == 1:\n",
        "        batch = False\n",
        "        x = np.expand_dims(x, axis=0)\n",
        "    x = self.d1(x)\n",
        "    x = self.d2(x)\n",
        "    action_logits = self.d3(x)\n",
        "\n",
        "    # 2. Sample policy to get action\n",
        "    action = tf.random.categorical(action_logits, 1)\n",
        "    action = action.numpy().flatten()\n",
        "    if not batch:\n",
        "        action = np.ndarray.item(action)\n",
        "\n",
        "    return {\"Action\":action, \"LogProbability\":action_logits}"
      ]
    },
    {
      "cell_type": "code",
      "execution_count": null,
      "metadata": {
        "id": "pCgNIIyKWb7C"
      },
      "outputs": [],
      "source": [
        "def loss_pg(actions, logits, weights):\n",
        "    actions = tf.cast(actions, dtype=tf.int32)  # Ensure actions are integers\n",
        "    action_masks = tf.one_hot(actions, 2, dtype=tf.float64)\n",
        "    logits = tf.cast(logits, dtype=tf.float64)  # Ensure logits are double tensors\n",
        "    log_probs = tf.reduce_sum(action_masks * tf.nn.log_softmax(logits), axis=1)\n",
        "    return -tf.reduce_mean(weights * log_probs)"
      ]
    },
    {
      "cell_type": "code",
      "execution_count": null,
      "metadata": {
        "id": "qG-z_hDiWe6o"
      },
      "outputs": [],
      "source": [
        "# def train_policy_grad(env, agent, num_epochs=250, max_episode_steps=100000):\n",
        "#     optimizer = tf.keras.optimizers.Adam(learning_rate=1e-2)\n",
        "#     log_reward = 0\n",
        "#     total_position = 0\n",
        "#     total_done_count = 0\n",
        "#     log_reward_list = []\n",
        "#     avg_pos_list = []\n",
        "#     logging_period = 20\n",
        "\n",
        "#     for epoch in range(num_epochs):\n",
        "#         # get the training data\n",
        "#         traj = get_episode_trajectory(env, agent, max_steps=max_episode_steps)\n",
        "#         obs = np.stack(traj[\"Observations\"])\n",
        "#         rew = traj[\"Rewards\"]\n",
        "#         actions = traj[\"Actions\"]\n",
        "#         done_count = traj[\"Done Count\"]\n",
        "#         position = obs[0][0]\n",
        "\n",
        "\n",
        "#         # compute 'reward-to-go'\n",
        "#         rew_2_go = reward_to_go_normalized(rew)\n",
        "\n",
        "#         # compute gradients + update weights\n",
        "#         with tf.GradientTape() as tape:\n",
        "#             logits = agent(obs)[\"LogProbability\"]\n",
        "#             loss = loss_pg(actions, logits, rew_2_go)\n",
        "\n",
        "#         gradients = tape.gradient(loss, agent.trainable_variables)\n",
        "#         optimizer.apply_gradients(zip(gradients, agent.trainable_variables))\n",
        "\n",
        "#         # log the reward\n",
        "#         log_reward += np.sum(rew)\n",
        "#         total_position += np.abs(position)\n",
        "#         total_done_count += done_count\n",
        "#         if (epoch % logging_period) == 0:\n",
        "#             template = 'Training Epoch {}, Averaged Return: {}, Averaged Position: {}, Failed Count: {}'\n",
        "#             print(template.format(epoch, log_reward / logging_period, total_position / logging_period, total_done_count))\n",
        "#             log_reward_list.append(log_reward / logging_period)\n",
        "#             avg_pos_list.append(total_position / logging_period)\n",
        "#             log_reward = 0\n",
        "\n",
        "#     return (range(0, num_epochs, logging_period), log_reward_list, avg_pos_list, done_count)"
      ]
    },
    {
      "cell_type": "code",
      "execution_count": null,
      "metadata": {
        "id": "gyhOWUV6YfV9"
      },
      "outputs": [],
      "source": [
        "def get_success_rate(env, agent, num_episodes=100, max_steps=200):\n",
        "    success_count = 0\n",
        "    for _ in range(num_episodes):\n",
        "        obs = env.reset()\n",
        "        terminated = False\n",
        "        for _ in range(max_steps):\n",
        "            action = agent(obs)[\"Action\"]\n",
        "            obs, reward, terminated, truncated = env.step(action)\n",
        "            # print(\"Results: \")\n",
        "            # print(obs, reward, terminated, truncated)\n",
        "            #if terminated:\n",
        "            if terminated:\n",
        "              if truncated[\"TimeLimit.truncated\"] == False:\n",
        "                success_count += 1  # Pole balanced successfully for max_steps\n",
        "              break\n",
        "    return success_count / num_episodes"
      ]
    },
    {
      "cell_type": "code",
      "execution_count": null,
      "metadata": {
        "id": "7xYzJTm7YiAB"
      },
      "outputs": [],
      "source": [
        "def train_policy_grad(env, agent, num_epochs=250, max_episode_steps=1000):\n",
        "    optimizer = tf.keras.optimizers.Adam(learning_rate=2e-2)\n",
        "    log_reward = 0\n",
        "    log_reward_list = []\n",
        "    success_rate_list = []  # Store success rate at each logging period\n",
        "    logging_period = 20\n",
        "\n",
        "    for epoch in range(num_epochs):\n",
        "        # get the training data\n",
        "        traj = get_episode_trajectory(env, agent, max_steps=max_episode_steps)\n",
        "        obs = np.stack(traj[\"Observations\"])\n",
        "        rew = traj[\"Rewards\"]\n",
        "        actions = traj[\"Actions\"]\n",
        "\n",
        "        # compute 'reward-to-go'\n",
        "        rew_2_go = reward_to_go_normalized(rew)\n",
        "\n",
        "        # compute gradients + update weights\n",
        "        with tf.GradientTape() as tape:\n",
        "            logits = agent(obs)[\"LogProbability\"]\n",
        "            loss = loss_pg(actions, logits, rew_2_go)\n",
        "\n",
        "        gradients = tape.gradient(loss, agent.trainable_variables)\n",
        "        optimizer.apply_gradients(zip(gradients, agent.trainable_variables))\n",
        "\n",
        "        # log the reward\n",
        "        log_reward += np.sum(rew)\n",
        "        if (epoch % logging_period) == 0:\n",
        "            template = 'Training Epoch {}, Averaged Return: {}, Success Rate: {}'\n",
        "            success_rate = 1 - get_success_rate(env, agent)\n",
        "            print(template.format(epoch, log_reward / logging_period, success_rate))\n",
        "            log_reward_list.append(log_reward / logging_period)\n",
        "            success_rate_list.append(success_rate)\n",
        "            log_reward = 0\n",
        "\n",
        "    return (range(0, num_epochs, logging_period), log_reward_list, success_rate_list)"
      ]
    },
    {
      "cell_type": "code",
      "execution_count": null,
      "metadata": {
        "colab": {
          "base_uri": "https://localhost:8080/"
        },
        "id": "UL2JTZvhWgag",
        "outputId": "a1e3d6ef-24b0-42a6-e7ec-f5b2a29b3852"
      },
      "outputs": [
        {
          "output_type": "stream",
          "name": "stdout",
          "text": [
            "Training Epoch 0, Averaged Return: 0.9, Success Rate: 0.0\n",
            "Training Epoch 20, Averaged Return: 22.8, Success Rate: 0.0\n",
            "Training Epoch 40, Averaged Return: 90.5, Success Rate: 0.040000000000000036\n",
            "Training Epoch 60, Averaged Return: 188.4, Success Rate: 0.0\n",
            "Training Epoch 80, Averaged Return: 245.35, Success Rate: 1.0\n",
            "Training Epoch 100, Averaged Return: 500.0, Success Rate: 1.0\n",
            "Training Epoch 120, Averaged Return: 500.0, Success Rate: 0.9299999999999999\n",
            "Training Epoch 140, Averaged Return: 433.3, Success Rate: 0.98\n",
            "Training Epoch 160, Averaged Return: 477.0, Success Rate: 1.0\n",
            "Training Epoch 180, Averaged Return: 369.0, Success Rate: 0.8\n",
            "Training Epoch 200, Averaged Return: 272.15, Success Rate: 0.39\n",
            "Training Epoch 220, Averaged Return: 444.55, Success Rate: 1.0\n",
            "Training Epoch 240, Averaged Return: 500.0, Success Rate: 1.0\n"
          ]
        }
      ],
      "source": [
        "agent_mlp_tf = AgentMLPTF()\n",
        "(episodes, rewards, success_rates) = train_policy_grad(env_cartpole, agent_mlp_tf)"
      ]
    },
    {
      "cell_type": "code",
      "execution_count": null,
      "metadata": {
        "colab": {
          "base_uri": "https://localhost:8080/",
          "height": 507
        },
        "id": "uYTuWJpdXM1X",
        "outputId": "d773895e-8846-4a84-e7a1-cd04cdd80fd6"
      },
      "outputs": [
        {
          "output_type": "display_data",
          "data": {
            "text/plain": [
              "<Figure size 1000x500 with 2 Axes>"
            ],
            "image/png": "[encoded data removed]"
          },
          "metadata": {}
        }
      ],
      "source": [
        "# Plotting both average episode reward and success rate\n",
        "plt.figure(figsize=(10, 5))\n",
        "plt.subplot(1, 2, 1)\n",
        "plt.plot(episodes, rewards, 'bo-')\n",
        "plt.xlabel('Episode Number')\n",
        "plt.ylabel('Average Episode Reward')\n",
        "plt.title('Average Episode Reward Over Training')\n",
        "\n",
        "plt.subplot(1, 2, 2)\n",
        "plt.plot(episodes, success_rates, 'go-')\n",
        "plt.xlabel('Episode Number')\n",
        "plt.ylabel('Success Rate')\n",
        "plt.title('Success Rate Over Training')\n",
        "\n",
        "plt.tight_layout()\n",
        "plt.show()"
      ]
    }
  ],
  "metadata": {
    "colab": {
      "provenance": []
    },
    "kernelspec": {
      "display_name": "Python 3",
      "name": "python3"
    },
    "language_info": {
      "name": "python"
    }
  },
  "nbformat": 4,
  "nbformat_minor": 0
}